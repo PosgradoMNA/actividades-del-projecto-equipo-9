{
  "nbformat": 4,
  "nbformat_minor": 0,
  "metadata": {
    "colab": {
      "name": "Avance1_ProyectoFinal_Equipo9",
      "provenance": [],
      "include_colab_link": true
    },
    "kernelspec": {
      "name": "python3",
      "display_name": "Python 3"
    },
    "language_info": {
      "name": "python"
    }
  },
  "cells": [
    {
      "cell_type": "markdown",
      "metadata": {
        "id": "view-in-github",
        "colab_type": "text"
      },
      "source": [
        "<a href=\"https://colab.research.google.com/github/PosgradoMNA/actividades-del-projecto-equipo-9/blob/main/assignment01.ipynb\" target=\"_parent\"><img src=\"https://colab.research.google.com/assets/colab-badge.svg\" alt=\"Open In Colab\"/></a>"
      ]
    },
    {
      "cell_type": "code",
      "execution_count": null,
      "metadata": {
        "id": "LzUSMM79NR9P",
        "outputId": "0e6cb421-1096-426a-b31a-f61d059def81",
        "colab": {
          "base_uri": "https://localhost:8080/"
        }
      },
      "outputs": [
        {
          "output_type": "stream",
          "name": "stdout",
          "text": [
            "assignment01 for GitJobish03 and edited in git, and 18\n"
          ]
        }
      ],
      "source": [
        "print('assignment01 for GitJobish03 and edited in git, and 18')"
      ]
    },
    {
      "cell_type": "markdown",
      "source": [
        "# Proyecto final - Avance 1\n",
        "\n",
        "Luis Salvador Cruz Najera \n",
        "A01002111\n",
        "\n",
        "Laura Elena Hernández Mata\n",
        "A01169213"
      ],
      "metadata": {
        "id": "ehPvWoKsuCaN"
      }
    },
    {
      "cell_type": "markdown",
      "source": [
        "## Nombre de conjunto de datos\n",
        "\n",
        "House Prices - Processed Data"
      ],
      "metadata": {
        "id": "TAf3QX46uG50"
      }
    },
    {
      "cell_type": "markdown",
      "source": [
        "## Organización que lo generó\n",
        "\n",
        "CC0\n",
        "\n",
        "Robert Sizemore"
      ],
      "metadata": {
        "id": "qU1-GxgluRWo"
      }
    },
    {
      "cell_type": "markdown",
      "source": [
        "## URL de acceso\n",
        "\n",
        "[Price Houses](https://www.kaggle.com/datasets/rsizem2/house-prices-ames-cleaned-dataset)"
      ],
      "metadata": {
        "id": "o9TCnhDguUp1"
      }
    },
    {
      "cell_type": "markdown",
      "source": [
        "## Descripción del conjunto de datos\n",
        "\n",
        "Es un conjunto de datos que contiene información relacionada con bienes raíces en Norteamérica, considerando algunos factores tales como el número de habitaciones y su área. La base ha sido previamente revisada y procesada, y es proveniente del dataset de AMES, lo cual permite realizar análisis de manera óptima. Cabe mencionar que contiene información de distintos tipos de variables, tales como Integer y String, entre otras. Por su naturaleza, permite hacer distitntos tipos de análsis, entre los que se encuentran modelos y análisis estadísticos, y su formato es CSV.\n"
      ],
      "metadata": {
        "id": "m9czJ7sguXWg"
      }
    },
    {
      "cell_type": "markdown",
      "source": [
        "## Preguntas que puede responder\n",
        "\n",
        "\n",
        "\n",
        "1.   ¿Cuáles son las características que pueden incrementar el precio?\n",
        "2.   ¿Qué tipo de bienes raíces se han popularizado con el paso del tiempo?\n",
        "3.   Si se quisiera construir o vender, ¿qué aspectos se deberían de tomar en cuenta para hacer atractiva una propiedad?\n",
        "4.   ¿Hay algún período en el que haya existido mayor cantidad de ventas? \n",
        "5.   x\n",
        "6.   x\n",
        "7.   x\n",
        "8.   x"
      ],
      "metadata": {
        "id": "Qe4ypv8vub6Y"
      }
    },
    {
      "cell_type": "markdown",
      "source": [
        "## ¿Qué actor estaría interesado en las preguntas identificadas?\n",
        "\n",
        "Gobierno \n",
        "Despacho de expertos en construcción / Arquitectos\n",
        "Empresas dedicadas a la construcción\n",
        "Compañías de aire acondicionado/calefacción\n",
        "Compañías de limpieza/reparación/mantenimiento de piscina"
      ],
      "metadata": {
        "id": "FvxEK13Uu6oP"
      }
    }
  ]
}
